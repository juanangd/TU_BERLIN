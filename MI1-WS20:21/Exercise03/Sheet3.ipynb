{
 "cells": [
  {
   "cell_type": "markdown",
   "metadata": {},
   "source": [
    "# Exercise H3.2: MLP Regression"
   ]
  },
  {
   "cell_type": "code",
   "execution_count": 246,
   "metadata": {},
   "outputs": [],
   "source": [
    "import numpy as np\n",
    "\n"
   ]
  },
  {
   "cell_type": "code",
   "execution_count": 247,
   "metadata": {},
   "outputs": [],
   "source": [
    "# Data from txt file\n",
    "\n",
    "data = np.genfromtxt('RegressionData.txt', delimiter=' ')\n"
   ]
  },
  {
   "cell_type": "code",
   "execution_count": 290,
   "metadata": {},
   "outputs": [],
   "source": [
    "#Initialization of variables and parameters\n",
    "\n",
    "N = 1\n",
    "N1 = 3\n",
    "NL = 1\n",
    "P = data.shape[0]\n",
    "\n",
    "h_0 = np.array(())\n",
    "h_1 = np.array(())\n",
    "h_L = np.array(())\n",
    "\n",
    "H = [h_0, h_1, h_L]\n",
    "\n",
    "W10 = np.random.uniform(-0.5, 0.5, (N+1, N1))\n",
    "W21 = np.random.uniform(-0.5, 0.5, (N1+1, NL))\n",
    "WL2 = np.random.uniform(-0.5, 0.5, (N1, 1))\n",
    "\n",
    "W = [W10, W21, WL2]\n",
    "\n",
    "f1 = lambda x: np.tanh(x)\n",
    "f2 = lambda x: x\n",
    "\n",
    "costFunction = lambda yt, y: 1/2*(yt - y)**2\n",
    "\n",
    "F = [f1, f1, f2]\n",
    "\n",
    "NLayers = 3\n",
    "\n",
    "f2_der = lambda x: 1\n",
    "f1_der = lambda x: np.cosh(x)**2 -np.sinh(x)**2 / np.cosh(x)**2\n",
    "F_der = [f1_der, f1_der, f2_der]\n",
    "\n",
    "delta_0 = np.array(())\n",
    "delta_1 = np.array(())\n",
    "delta_2 = np.array(())\n",
    "\n",
    "Deltas = [delta_0, delta_1, delta_2]\n"
   ]
  },
  {
   "cell_type": "code",
   "execution_count": 291,
   "metadata": {},
   "outputs": [],
   "source": [
    "def forward_prop(x, y_t, H, W, NLayers, F):\n",
    "   \n",
    "    for n in range(NLayers):\n",
    "        \n",
    "        if n!=NLayers-1: \n",
    "                \n",
    "            if n==0:\n",
    "                H[n] = np.vstack((1, x))\n",
    "            else:\n",
    "                H[n] = np.vstack((1, H[n]))\n",
    "                \n",
    "            H[n+1] = W[n].T@F[n](H[n])\n",
    "                \n",
    "        else:\n",
    "            y= F[n](H[n])\n",
    "            e = costFunction(y_t, y)\n",
    "            \n",
    "    return y, H, e\n"
   ]
  },
  {
   "cell_type": "code",
   "execution_count": 426,
   "metadata": {},
   "outputs": [],
   "source": [
    "def back_prop(H, F_der, W,  NLayers, Deltas):\n",
    "        \n",
    "    for n in range(NLayers-1, -1, -1):\n",
    "        \n",
    "        if(n==NLayers-1):\n",
    "            Deltas[n] = F_der[n](H[n])\n",
    "            \n",
    "        elif(n==NLayers-2):\n",
    "            \n",
    "            Deltas[n][0] = Deltas[n+1]*W[n+1][0]\n",
    "            Deltas[n][1:] = np.multiply(F_der[n](H[n][1:]), W[n][1:]*Deltas[n+1])\n",
    "        else:\n",
    "            Deltas[n][0] = np.sum(np.multiply(Deltas[n+1], W[n+1][0, :]))\n",
    "            Deltas[n][1:] = np.multiply(F_der[n](H[n][1:]), W[n][1:]@Deltas[n+1][1:])\n",
    "             \n",
    "    return Deltase"
   ]
  },
  {
   "cell_type": "code",
   "execution_count": null,
   "metadata": {},
   "outputs": [],
   "source": [
    "def gradient(Deltas, )"
   ]
  },
  {
   "cell_type": "code",
   "execution_count": 427,
   "metadata": {},
   "outputs": [],
   "source": [
    "for i, dat in enumerate(data):\n",
    "    \n",
    "    x = dat[0]\n",
    "    y = dat[1]\n",
    "    \n",
    "    #Forward propagation \n",
    "    y, H, e = forward_prop(x, y, H, W, NLayers, F)\n",
    "    \n",
    "    #Backpropagation\n",
    "    Deltas = back_prop(H, F_der, W, NLayers, Deltas)\n",
    "    \n",
    "    gradient = \n",
    "    break;"
   ]
  },
  {
   "cell_type": "code",
   "execution_count": null,
   "metadata": {},
   "outputs": [],
   "source": []
  },
  {
   "cell_type": "code",
   "execution_count": null,
   "metadata": {},
   "outputs": [],
   "source": []
  },
  {
   "cell_type": "code",
   "execution_count": null,
   "metadata": {},
   "outputs": [],
   "source": []
  },
  {
   "cell_type": "code",
   "execution_count": null,
   "metadata": {},
   "outputs": [],
   "source": []
  }
 ],
 "metadata": {
  "kernelspec": {
   "display_name": "Python 3",
   "language": "python",
   "name": "python3"
  },
  "language_info": {
   "codemirror_mode": {
    "name": "ipython",
    "version": 3
   },
   "file_extension": ".py",
   "mimetype": "text/x-python",
   "name": "python",
   "nbconvert_exporter": "python",
   "pygments_lexer": "ipython3",
   "version": "3.7.1"
  }
 },
 "nbformat": 4,
 "nbformat_minor": 2
}
