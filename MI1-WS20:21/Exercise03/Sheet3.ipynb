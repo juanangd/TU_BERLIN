{
 "cells": [
  {
   "cell_type": "markdown",
   "metadata": {},
   "source": [
    "# Exercise H3.2: MLP Regression"
   ]
  },
  {
   "cell_type": "code",
   "execution_count": 1,
   "metadata": {},
   "outputs": [],
   "source": [
    "import numpy as np\n",
    "\n"
   ]
  },
  {
   "cell_type": "code",
   "execution_count": 2,
   "metadata": {},
   "outputs": [],
   "source": [
    "# Data from txt file\n",
    "\n",
    "data = np.genfromtxt('RegressionData.txt', delimiter=' ')\n"
   ]
  },
  {
   "cell_type": "code",
   "execution_count": 3,
   "metadata": {},
   "outputs": [],
   "source": [
    "#Initialization of variables and parameters\n",
    "\n",
    "N = 1\n",
    "N1 = 3\n",
    "NL = 1\n",
    "P = data.shape[0]\n",
    "\n",
    "h_0 = np.array(())\n",
    "h_1 = np.array(())\n",
    "h_L = np.array(())\n",
    "\n",
    "H = [h_0, h_1, h_L]\n",
    "\n",
    "W10 = np.random.uniform(-0.5, 0.5, (N+1, N1))\n",
    "W21 = np.random.uniform(-0.5, 0.5, (N1+1, NL))\n",
    "\n",
    "W = [W10, W21]\n",
    "\n",
    "f1 = lambda x: np.tanh(x)\n",
    "f2 = lambda x: x\n",
    "\n",
    "costFunction = lambda yt, y: 1/2*(yt - y)**2\n",
    "\n",
    "F = [f1, f1, f2]\n",
    "\n",
    "NLayers = 3\n",
    "\n",
    "f2_der = lambda x: 1\n",
    "f1_der = lambda x: np.cosh(x)**2 -np.sinh(x)**2 / np.cosh(x)**2\n",
    "F_der = [f1_der, f1_der, f2_der]\n",
    "\n",
    "delta_1 = np.zeros((N1+1, 1))\n",
    "delta_L = np.zeros((NL, 1))\n",
    "\n",
    "Deltas = [delta_1, delta_L]\n",
    "\n",
    "grad2 = np.zeros((N1+1, NL))\n",
    "grad3 = np.zeros((N1, 1))\n",
    "\n",
    "Gradients = [grad2, grad3]\n",
    "\n",
    "batch1 = np.zeros((N1+1, NL))\n",
    "batch2 = np.zeros((N1, 1))\n"
   ]
  },
  {
   "cell_type": "code",
   "execution_count": 4,
   "metadata": {},
   "outputs": [],
   "source": [
    "def forward_prop(x, y_t, H, W, NLayers, F):\n",
    "   \n",
    "    for n in range(NLayers):\n",
    "        \n",
    "        if n!=NLayers-1: \n",
    "                \n",
    "            if n==0:\n",
    "                H[n] = np.vstack((1, x))\n",
    "            else:\n",
    "                H[n] = np.vstack((1, H[n]))\n",
    "                \n",
    "            H[n+1] = W[n].T@F[n](H[n])\n",
    "                \n",
    "        else:\n",
    "            y= F[n](H[n])\n",
    "            e = costFunction(y_t, y)\n",
    "            \n",
    "    return y, H, e\n"
   ]
  },
  {
   "cell_type": "code",
   "execution_count": 5,
   "metadata": {},
   "outputs": [],
   "source": [
    "def back_prop(H, F_der, W,  NLayers, Deltas):\n",
    "        \n",
    "    for n in range(NLayers-1, -1, -1):\n",
    "        \n",
    "        if(n==NLayers-1):\n",
    "            Deltas[n-1] = F_der[n](H[n])\n",
    "            \n",
    "        elif(n==NLayers-2):\n",
    "\n",
    "            Deltas[n-1][0] = Deltas[n]*W[n][0]\n",
    "            Deltas[n-1][1:] = np.multiply(F_der[n](H[n][1:]), W[n][1:]*Deltas[n])\n",
    "\n",
    "             \n",
    "    return Deltas\n"
   ]
  },
  {
   "cell_type": "code",
   "execution_count": 6,
   "metadata": {},
   "outputs": [],
   "source": [
    "def gradCalculation(Gradients, H,Deltas, F, e, NLayers):\n",
    "    print(Gradients)\n",
    "    \n",
    "    for i in range(NLayers-1):\n",
    "        \n",
    "        Gradients[i] = Gradients[i] +  e* np.multiply(Deltas[i], F[i](H[i+1]))\n",
    "    \n",
    "    return Gradients\n",
    "        \n",
    "        "
   ]
  },
  {
   "cell_type": "code",
   "execution_count": null,
   "metadata": {},
   "outputs": [],
   "source": []
  },
  {
   "cell_type": "code",
   "execution_count": 7,
   "metadata": {},
   "outputs": [
    {
     "name": "stdout",
     "output_type": "stream",
     "text": [
      "[array([[0.],\n",
      "       [0.],\n",
      "       [0.],\n",
      "       [0.]]), array([[0.],\n",
      "       [0.],\n",
      "       [0.]])]\n",
      "[array([[nan],\n",
      "       [nan],\n",
      "       [nan],\n",
      "       [nan]]), array([[nan],\n",
      "       [nan],\n",
      "       [nan]])]\n",
      "[array([[nan],\n",
      "       [nan],\n",
      "       [nan],\n",
      "       [nan]]), array([[nan],\n",
      "       [nan],\n",
      "       [nan]])]\n",
      "[array([[nan],\n",
      "       [nan],\n",
      "       [nan],\n",
      "       [nan]]), array([[nan],\n",
      "       [nan],\n",
      "       [nan]])]\n",
      "[array([[nan],\n",
      "       [nan],\n",
      "       [nan],\n",
      "       [nan]]), array([[nan],\n",
      "       [nan],\n",
      "       [nan]])]\n",
      "[array([[nan],\n",
      "       [nan],\n",
      "       [nan],\n",
      "       [nan]]), array([[nan],\n",
      "       [nan],\n",
      "       [nan]])]\n",
      "[array([[nan],\n",
      "       [nan],\n",
      "       [nan],\n",
      "       [nan]]), array([[nan],\n",
      "       [nan],\n",
      "       [nan]])]\n",
      "[array([[nan],\n",
      "       [nan],\n",
      "       [nan],\n",
      "       [nan]]), array([[nan],\n",
      "       [nan],\n",
      "       [nan]])]\n",
      "[array([[nan],\n",
      "       [nan],\n",
      "       [nan],\n",
      "       [nan]]), array([[nan],\n",
      "       [nan],\n",
      "       [nan]])]\n",
      "[array([[nan],\n",
      "       [nan],\n",
      "       [nan],\n",
      "       [nan]]), array([[nan],\n",
      "       [nan],\n",
      "       [nan]])]\n",
      "[array([[nan],\n",
      "       [nan],\n",
      "       [nan],\n",
      "       [nan]]), array([[nan],\n",
      "       [nan],\n",
      "       [nan]])]\n"
     ]
    },
    {
     "ename": "TypeError",
     "evalue": "unsupported operand type(s) for *: 'float' and 'builtin_function_or_method'",
     "output_type": "error",
     "traceback": [
      "\u001b[0;31m---------------------------------------------------------------------------\u001b[0m",
      "\u001b[0;31mTypeError\u001b[0m                                 Traceback (most recent call last)",
      "\u001b[0;32m<ipython-input-7-84acea3da0f2>\u001b[0m in \u001b[0;36m<module>\u001b[0;34m\u001b[0m\n\u001b[1;32m     12\u001b[0m     \u001b[0mGradients\u001b[0m \u001b[0;34m=\u001b[0m \u001b[0mgradCalculation\u001b[0m\u001b[0;34m(\u001b[0m\u001b[0mGradients\u001b[0m\u001b[0;34m,\u001b[0m \u001b[0mH\u001b[0m\u001b[0;34m,\u001b[0m \u001b[0mDeltas\u001b[0m\u001b[0;34m,\u001b[0m \u001b[0mF\u001b[0m\u001b[0;34m,\u001b[0m \u001b[0me\u001b[0m\u001b[0;34m,\u001b[0m \u001b[0mNLayers\u001b[0m\u001b[0;34m)\u001b[0m\u001b[0;34m\u001b[0m\u001b[0;34m\u001b[0m\u001b[0m\n\u001b[1;32m     13\u001b[0m \u001b[0;34m\u001b[0m\u001b[0m\n\u001b[0;32m---> 14\u001b[0;31m \u001b[0mgradient\u001b[0m \u001b[0;34m=\u001b[0m \u001b[0;36m1\u001b[0m\u001b[0;34m/\u001b[0m\u001b[0mdata\u001b[0m\u001b[0;34m.\u001b[0m\u001b[0mshape\u001b[0m\u001b[0;34m[\u001b[0m\u001b[0;36m0\u001b[0m\u001b[0;34m]\u001b[0m \u001b[0;34m*\u001b[0m \u001b[0msum\u001b[0m\u001b[0;34m\u001b[0m\u001b[0;34m\u001b[0m\u001b[0m\n\u001b[0m\u001b[1;32m     15\u001b[0m \u001b[0;34m\u001b[0m\u001b[0m\n\u001b[1;32m     16\u001b[0m \u001b[0;34m\u001b[0m\u001b[0m\n",
      "\u001b[0;31mTypeError\u001b[0m: unsupported operand type(s) for *: 'float' and 'builtin_function_or_method'"
     ]
    }
   ],
   "source": [
    "for i, dat in enumerate(data):\n",
    "    \n",
    "    x = dat[0]\n",
    "    y = dat[1]\n",
    "    \n",
    "    #Forward propagation \n",
    "    y, H, e = forward_prop(x, y, H, W, NLayers, F)\n",
    "    \n",
    "    #Backpropagation\n",
    "    Deltas = back_prop(H, F_der, W, NLayers, Deltas)\n",
    "    \n",
    "    Gradients = gradCalculation(Gradients, H, Deltas, F, e, NLayers)\n",
    "    \n",
    "gradient = 1/data.shape[0] * sum\n",
    "\n",
    "\n",
    "data.shape[0]"
   ]
  },
  {
   "cell_type": "code",
   "execution_count": 222,
   "metadata": {},
   "outputs": [
    {
     "name": "stdout",
     "output_type": "stream",
     "text": [
      "0\n",
      "1\n"
     ]
    }
   ],
   "source": [
    ")"
   ]
  },
  {
   "cell_type": "code",
   "execution_count": null,
   "metadata": {},
   "outputs": [],
   "source": []
  },
  {
   "cell_type": "code",
   "execution_count": null,
   "metadata": {},
   "outputs": [],
   "source": []
  },
  {
   "cell_type": "code",
   "execution_count": null,
   "metadata": {},
   "outputs": [],
   "source": []
  }
 ],
 "metadata": {
  "kernelspec": {
   "display_name": "Python 3",
   "language": "python",
   "name": "python3"
  },
  "language_info": {
   "codemirror_mode": {
    "name": "ipython",
    "version": 3
   },
   "file_extension": ".py",
   "mimetype": "text/x-python",
   "name": "python",
   "nbconvert_exporter": "python",
   "pygments_lexer": "ipython3",
   "version": "3.7.1"
  }
 },
 "nbformat": 4,
 "nbformat_minor": 2
}
