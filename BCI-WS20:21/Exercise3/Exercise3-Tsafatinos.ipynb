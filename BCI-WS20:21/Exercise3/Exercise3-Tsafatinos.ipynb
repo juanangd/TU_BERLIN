{
 "cells": [
  {
   "cell_type": "markdown",
   "metadata": {},
   "source": [
    "# Exercise Sheet 3: Head Modeling & Non-linear dynamics"
   ]
  },
  {
   "cell_type": "code",
   "execution_count": 1,
   "metadata": {
    "ExecuteTime": {
     "end_time": "2020-12-14T04:56:06.717256Z",
     "start_time": "2020-12-14T04:56:06.110515Z"
    },
    "scrolled": true
   },
   "outputs": [],
   "source": [
    "import numpy as np\n",
    "from matplotlib import pyplot as plt\n",
    "from scipy import signal as signal"
   ]
  },
  {
   "cell_type": "code",
   "execution_count": 2,
   "metadata": {
    "ExecuteTime": {
     "end_time": "2020-12-14T04:56:06.803747Z",
     "start_time": "2020-12-14T04:56:06.719534Z"
    }
   },
   "outputs": [],
   "source": [
    "# Define useful functions and import head models and source distributions\n",
    "def logistic(h,a=1):\n",
    "    return 1/(1+np.exp(-a*h))\n",
    "\n",
    "\n",
    "def phi_dip(r, Q, r_0=None,sigma=0.33):\n",
    "    r=np.array(r)\n",
    "    Q=np.array(Q)    \n",
    "    if r_0 is not None:\n",
    "        r_0=np.array(r_0)\n",
    "        r=(r-r_0).T\n",
    "    return 1/(4*np.pi*sigma)*(np.tensordot(Q,r,1))/np.power(np.linalg.norm(r,axis=0),3)\n",
    "\n",
    "\n",
    "pos1=np.load('bnd4_pos1.npy')\n",
    "tri1=np.load('bnd4_tri1.npy')\n",
    "cortex2dsm=np.load('cortex2dsm.npy')\n",
    "gridpos=np.load('gridpos.npy')\n",
    "NoTri=tri1.shape[0]\n",
    "NoPnt=pos1.shape[0]"
   ]
  },
  {
   "cell_type": "markdown",
   "metadata": {},
   "source": [
    "## Task 1: BEM vs infinite solution  (5 points)\n",
    "\n",
    "\n",
    "The file 'cortex2dsm.npy', lets call it again $L$ is similar to the leadfields of the last sheet but this time mapping to the cortex surface. Again, you have to select a dipole and the dipolar moments $q$. The voltage is then calculated by $v=L_i \\cdot q$.\n",
    "\n",
    "**Tasks:**\n",
    "\n",
    "a) Chose an arbitrary dipole and a dipolar moment yourself and simulate the field using the BEM head model.\n",
    "\n",
    "b) Then, calculate the anayltical solution for an infinite homogeneous current dipole at the cortex surface vertices (positions) for the same source location and dipolar moment. Source conductivity is $\\sigma_1=0.201$. You can find the source position $r_q$ for the dipole in 'gridpos.npy' which has the same indexing as the leadfield.\n",
    "\n",
    "c) Plot the distribution of the potential on the brain surface using the *plot_trisurf* function similar as in task 7 sheet 2 in combination with indiviudally colored triangles.\n",
    "\n",
    "c) Also, use the simple *plot* function to plot the voltage for both the analytic solution in infiinite space and the BEM soution on the cortex surface over the vertex index to get a closer look at individual values.\n",
    "\n",
    "Are the solutions equal? Investigate and explain the difference. "
   ]
  },
  {
   "cell_type": "code",
   "execution_count": 3,
   "metadata": {
    "ExecuteTime": {
     "end_time": "2020-12-14T04:56:08.876420Z",
     "start_time": "2020-12-14T04:56:06.809295Z"
    },
    "scrolled": false
   },
   "outputs": [
    {
     "ename": "ValueError",
     "evalue": "Unknown projection '3d'",
     "output_type": "error",
     "traceback": [
      "\u001b[0;31m---------------------------------------------------------------------------\u001b[0m",
      "\u001b[0;31mKeyError\u001b[0m                                  Traceback (most recent call last)",
      "\u001b[0;32m~/anaconda3/lib/python3.7/site-packages/matplotlib/projections/__init__.py\u001b[0m in \u001b[0;36mget_projection_class\u001b[0;34m(projection)\u001b[0m\n\u001b[1;32m     57\u001b[0m     \u001b[0;32mtry\u001b[0m\u001b[0;34m:\u001b[0m\u001b[0;34m\u001b[0m\u001b[0;34m\u001b[0m\u001b[0m\n\u001b[0;32m---> 58\u001b[0;31m         \u001b[0;32mreturn\u001b[0m \u001b[0mprojection_registry\u001b[0m\u001b[0;34m.\u001b[0m\u001b[0mget_projection_class\u001b[0m\u001b[0;34m(\u001b[0m\u001b[0mprojection\u001b[0m\u001b[0;34m)\u001b[0m\u001b[0;34m\u001b[0m\u001b[0;34m\u001b[0m\u001b[0m\n\u001b[0m\u001b[1;32m     59\u001b[0m     \u001b[0;32mexcept\u001b[0m \u001b[0mKeyError\u001b[0m\u001b[0;34m:\u001b[0m\u001b[0;34m\u001b[0m\u001b[0;34m\u001b[0m\u001b[0m\n",
      "\u001b[0;32m~/anaconda3/lib/python3.7/site-packages/matplotlib/projections/__init__.py\u001b[0m in \u001b[0;36mget_projection_class\u001b[0;34m(self, name)\u001b[0m\n\u001b[1;32m     24\u001b[0m         \"\"\"\n\u001b[0;32m---> 25\u001b[0;31m         \u001b[0;32mreturn\u001b[0m \u001b[0mself\u001b[0m\u001b[0;34m.\u001b[0m\u001b[0m_all_projection_types\u001b[0m\u001b[0;34m[\u001b[0m\u001b[0mname\u001b[0m\u001b[0;34m]\u001b[0m\u001b[0;34m\u001b[0m\u001b[0;34m\u001b[0m\u001b[0m\n\u001b[0m\u001b[1;32m     26\u001b[0m \u001b[0;34m\u001b[0m\u001b[0m\n",
      "\u001b[0;31mKeyError\u001b[0m: '3d'",
      "\nDuring handling of the above exception, another exception occurred:\n",
      "\u001b[0;31mValueError\u001b[0m                                Traceback (most recent call last)",
      "\u001b[0;32m<ipython-input-3-007ce15a5d52>\u001b[0m in \u001b[0;36m<module>\u001b[0;34m\u001b[0m\n\u001b[1;32m     31\u001b[0m \u001b[0;31m# Plot surf and set the surface colors.\u001b[0m\u001b[0;34m\u001b[0m\u001b[0;34m\u001b[0m\u001b[0;34m\u001b[0m\u001b[0m\n\u001b[1;32m     32\u001b[0m \u001b[0mfig\u001b[0m \u001b[0;34m=\u001b[0m \u001b[0mplt\u001b[0m\u001b[0;34m.\u001b[0m\u001b[0mfigure\u001b[0m\u001b[0;34m(\u001b[0m\u001b[0mfigsize\u001b[0m\u001b[0;34m=\u001b[0m\u001b[0;34m[\u001b[0m\u001b[0;36m15\u001b[0m\u001b[0;34m,\u001b[0m\u001b[0;36m15\u001b[0m\u001b[0;34m]\u001b[0m\u001b[0;34m)\u001b[0m\u001b[0;34m\u001b[0m\u001b[0;34m\u001b[0m\u001b[0m\n\u001b[0;32m---> 33\u001b[0;31m \u001b[0max\u001b[0m \u001b[0;34m=\u001b[0m \u001b[0mfig\u001b[0m\u001b[0;34m.\u001b[0m\u001b[0madd_subplot\u001b[0m\u001b[0;34m(\u001b[0m\u001b[0;36m221\u001b[0m\u001b[0;34m,\u001b[0m \u001b[0mprojection\u001b[0m\u001b[0;34m=\u001b[0m\u001b[0;34m'3d'\u001b[0m\u001b[0;34m)\u001b[0m\u001b[0;34m\u001b[0m\u001b[0;34m\u001b[0m\u001b[0m\n\u001b[0m\u001b[1;32m     34\u001b[0m \u001b[0max\u001b[0m\u001b[0;34m.\u001b[0m\u001b[0mset_title\u001b[0m\u001b[0;34m(\u001b[0m\u001b[0;34m\"BEM Solution on Cortex Surface\"\u001b[0m\u001b[0;34m,\u001b[0m \u001b[0msize\u001b[0m\u001b[0;34m=\u001b[0m\u001b[0;36m17\u001b[0m\u001b[0;34m)\u001b[0m\u001b[0;34m\u001b[0m\u001b[0;34m\u001b[0m\u001b[0m\n\u001b[1;32m     35\u001b[0m trisufplt=ax.plot_trisurf(\n",
      "\u001b[0;32m~/anaconda3/lib/python3.7/site-packages/matplotlib/figure.py\u001b[0m in \u001b[0;36madd_subplot\u001b[0;34m(self, *args, **kwargs)\u001b[0m\n\u001b[1;32m   1347\u001b[0m         \u001b[0;32melse\u001b[0m\u001b[0;34m:\u001b[0m\u001b[0;34m\u001b[0m\u001b[0;34m\u001b[0m\u001b[0m\n\u001b[1;32m   1348\u001b[0m             projection_class, kwargs, key = process_projection_requirements(\n\u001b[0;32m-> 1349\u001b[0;31m                 self, *args, **kwargs)\n\u001b[0m\u001b[1;32m   1350\u001b[0m \u001b[0;34m\u001b[0m\u001b[0m\n\u001b[1;32m   1351\u001b[0m             \u001b[0;31m# try to find the axes with this key in the stack\u001b[0m\u001b[0;34m\u001b[0m\u001b[0;34m\u001b[0m\u001b[0;34m\u001b[0m\u001b[0m\n",
      "\u001b[0;32m~/anaconda3/lib/python3.7/site-packages/matplotlib/projections/__init__.py\u001b[0m in \u001b[0;36mprocess_projection_requirements\u001b[0;34m(figure, polar, projection, *args, **kwargs)\u001b[0m\n\u001b[1;32m     79\u001b[0m \u001b[0;34m\u001b[0m\u001b[0m\n\u001b[1;32m     80\u001b[0m     \u001b[0;32mif\u001b[0m \u001b[0misinstance\u001b[0m\u001b[0;34m(\u001b[0m\u001b[0mprojection\u001b[0m\u001b[0;34m,\u001b[0m \u001b[0mstr\u001b[0m\u001b[0;34m)\u001b[0m \u001b[0;32mor\u001b[0m \u001b[0mprojection\u001b[0m \u001b[0;32mis\u001b[0m \u001b[0;32mNone\u001b[0m\u001b[0;34m:\u001b[0m\u001b[0;34m\u001b[0m\u001b[0;34m\u001b[0m\u001b[0m\n\u001b[0;32m---> 81\u001b[0;31m         \u001b[0mprojection_class\u001b[0m \u001b[0;34m=\u001b[0m \u001b[0mget_projection_class\u001b[0m\u001b[0;34m(\u001b[0m\u001b[0mprojection\u001b[0m\u001b[0;34m)\u001b[0m\u001b[0;34m\u001b[0m\u001b[0;34m\u001b[0m\u001b[0m\n\u001b[0m\u001b[1;32m     82\u001b[0m     \u001b[0;32melif\u001b[0m \u001b[0mhasattr\u001b[0m\u001b[0;34m(\u001b[0m\u001b[0mprojection\u001b[0m\u001b[0;34m,\u001b[0m \u001b[0;34m'_as_mpl_axes'\u001b[0m\u001b[0;34m)\u001b[0m\u001b[0;34m:\u001b[0m\u001b[0;34m\u001b[0m\u001b[0;34m\u001b[0m\u001b[0m\n\u001b[1;32m     83\u001b[0m         \u001b[0mprojection_class\u001b[0m\u001b[0;34m,\u001b[0m \u001b[0mextra_kwargs\u001b[0m \u001b[0;34m=\u001b[0m \u001b[0mprojection\u001b[0m\u001b[0;34m.\u001b[0m\u001b[0m_as_mpl_axes\u001b[0m\u001b[0;34m(\u001b[0m\u001b[0;34m)\u001b[0m\u001b[0;34m\u001b[0m\u001b[0;34m\u001b[0m\u001b[0m\n",
      "\u001b[0;32m~/anaconda3/lib/python3.7/site-packages/matplotlib/projections/__init__.py\u001b[0m in \u001b[0;36mget_projection_class\u001b[0;34m(projection)\u001b[0m\n\u001b[1;32m     58\u001b[0m         \u001b[0;32mreturn\u001b[0m \u001b[0mprojection_registry\u001b[0m\u001b[0;34m.\u001b[0m\u001b[0mget_projection_class\u001b[0m\u001b[0;34m(\u001b[0m\u001b[0mprojection\u001b[0m\u001b[0;34m)\u001b[0m\u001b[0;34m\u001b[0m\u001b[0;34m\u001b[0m\u001b[0m\n\u001b[1;32m     59\u001b[0m     \u001b[0;32mexcept\u001b[0m \u001b[0mKeyError\u001b[0m\u001b[0;34m:\u001b[0m\u001b[0;34m\u001b[0m\u001b[0;34m\u001b[0m\u001b[0m\n\u001b[0;32m---> 60\u001b[0;31m         \u001b[0;32mraise\u001b[0m \u001b[0mValueError\u001b[0m\u001b[0;34m(\u001b[0m\u001b[0;34m\"Unknown projection %r\"\u001b[0m \u001b[0;34m%\u001b[0m \u001b[0mprojection\u001b[0m\u001b[0;34m)\u001b[0m\u001b[0;34m\u001b[0m\u001b[0;34m\u001b[0m\u001b[0m\n\u001b[0m\u001b[1;32m     61\u001b[0m \u001b[0;34m\u001b[0m\u001b[0m\n\u001b[1;32m     62\u001b[0m \u001b[0;34m\u001b[0m\u001b[0m\n",
      "\u001b[0;31mValueError\u001b[0m: Unknown projection '3d'"
     ]
    },
    {
     "data": {
      "text/plain": [
       "<Figure size 1080x1080 with 0 Axes>"
      ]
     },
     "metadata": {},
     "output_type": "display_data"
    }
   ],
   "source": [
    "S_idx = 2500\n",
    "Q1 = np.array([10,10,10])*1e-15\n",
    "r_q = gridpos[S_idx, :]\n",
    "sigma1 = 0.201\n",
    "\n",
    "\n",
    "phis = cortex2dsm[:, S_idx, :] @ Q1\n",
    "surface_phis = np.zeros(tri1.shape[0])\n",
    "\n",
    "\n",
    "phis2 =  phi_dip(pos1, Q1, r_0=r_q, sigma=sigma1)\n",
    "surface_phis2 = np.zeros(tri1.shape[0])\n",
    "\n",
    "\n",
    "# Average over the potentials at the points to get the potentials for the triangles.\n",
    "for i, tri in enumerate(tri1):\n",
    "    surface_phis[i] = np.mean(cortex2dsm[tri, S_idx, :], axis=0) @ Q1\n",
    "    surface_phis2[i] = np.mean(phis2[tri])\n",
    "    \n",
    "\n",
    "# Build a colormap.\n",
    "absmax=np.max(np.abs([phis]))\n",
    "mappy=plt.cm.ScalarMappable(cmap=plt.cm.jet)\n",
    "mappy.set_clim([-absmax,absmax])\n",
    "absmax2=np.max(np.abs([phis2]))\n",
    "mappy2=plt.cm.ScalarMappable(cmap=plt.cm.jet)\n",
    "mappy2.set_clim([-absmax,absmax])\n",
    "# mappy.set_array([]) #not sure what this does\n",
    "\n",
    "\n",
    "# Plot surf and set the surface colors.\n",
    "fig = plt.figure(figsize=[15,15])\n",
    "ax = fig.add_subplot(221, projection='3d')\n",
    "ax.set_title(\"BEM Solution on Cortex Surface\", size=17)\n",
    "trisufplt=ax.plot_trisurf(\n",
    "    pos1[:, 0], \n",
    "    pos1[:, 1], \n",
    "    pos1[:, 2], \n",
    "    triangles=tri1,\n",
    "    alpha=0.4,\n",
    "    edgecolor='k',\n",
    "    linewidth=0.4\n",
    ")\n",
    "trisufplt.set_facecolors(mappy.to_rgba(surface_phis))\n",
    "plt.colorbar(mappy, ax=ax, fraction=0.03, pad=0.1)\n",
    "\n",
    "\n",
    "ax2 = fig.add_subplot(222, projection='3d')\n",
    "ax2.set_title(\"Analytical Solution on Cortex Surface\", size=17)\n",
    "trisufplt2=ax2.plot_trisurf(\n",
    "    pos1[:, 0], \n",
    "    pos1[:, 1], \n",
    "    pos1[:, 2], \n",
    "    triangles=tri1,\n",
    "    alpha=0.4,\n",
    "    edgecolor='k',\n",
    "    linewidth=0.4\n",
    ")\n",
    "trisufplt2.set_facecolors(mappy2.to_rgba(surface_phis2))\n",
    "plt.colorbar(mappy2, ax=ax2, fraction=0.03, pad=0.1)\n",
    "\n",
    "\n",
    "ax3 = fig.add_subplot(223)\n",
    "ax3.set_title(\"Voltage Distribution of BEM Solution\", size=17, pad=15)\n",
    "ax3.plot(phis, color='mediumpurple')\n",
    "ax3.set_ylabel(\"potential [V]\", size=15)\n",
    "ax3.set_xlabel(\"Vertex Index\", size=15)\n",
    "ax3.set_ylim(np.min((phis, phis2))-1e-12, np.max((phis, phis2))+1e-12)\n",
    "ax3.grid()\n",
    "ax4 = fig.add_subplot(224)\n",
    "ax4.set_title(\"Voltage Distribution of Analytical Solution\", size=17, pad=15)\n",
    "ax4.plot(phis2, color='mediumpurple')\n",
    "ax4.set_ylabel(\"potential [V]\", size=15)\n",
    "ax4.set_xlabel(\"Vertex Index\", size=15)\n",
    "ax4.set_ylim(np.min((phis, phis2))-1e-12, np.max((phis, phis2))+1e-12)\n",
    "ax4.grid()\n",
    "plt.show()"
   ]
  },
  {
   "cell_type": "markdown",
   "metadata": {},
   "source": [
    "Here we see the solutions are not equal. The analytical solution seems to exhibit larger amounts of positive potential distributed along the vertices, as well as less negative potential. It is worth noting that the maxima and minima are more extreme in the analytical solution. The analytical solution is also more granular, whereas the BEM solution is more smooth. This would coincide with the idea that our BEM solution has taken into account for the effects of volume conduction between the cortex and CSF. Since the CSF is much more conductive, we know that the flow of current will shift towards the boundary (towards the CSF). This could account for the less extreme values in the voltage distributions as well as the wider distribution of values accros the cortex. "
   ]
  },
  {
   "cell_type": "markdown",
   "metadata": {},
   "source": [
    "## Task 2: The effect of the non-linear transfer function: simulation (5 points)\n",
    "\n",
    "\n",
    "**Tasks:**\n",
    "\n",
    "a) Write a function simulating a sine-wave $x(t)=a*sin(\\omega t)+b=a*sin(2\\pi f t)+b$. Simulate a time interval of 10s with a sampling rate of fs=200Hz and plot it over the first $0.5s$ with $a=1$ for the amplitude, $b=0$ for the offset and $f=10Hz$ for the frequency.\n",
    "\n",
    "b) Calculate the Power-Spectral-Density (PSD) of the signal and plot it over the frequency. For calculating the PSD, use the welch algorithm (scipy.signal.welch) and plot it using a logarithmic scale (10*log10(Pxx)). Clip the PSD at -80dB. Use a 10s snippet of the signal for calculating the PSD.\n",
    "\n",
    "c) Use the logistic function $y(x)=\\frac{1}{1+e^{-ax}}$ on the signal $x(t)$ as a non-linear time-invariant amplitude transformation. Do this for all possible combinations of the following amplitudes and offsets of the sine wave: a={0.5, 1, 10} and b={-2,-1,0, 1, 2}. Calculate and plot the PSD as in b).\n",
    "\n",
    "d) The signal in a) and b) is a pure sine wave, which as a fourier transform has a single peak in the frequency spectrum. Explain the differences to the PSD of the sine wave (b) and the effect of the non-linear transformation on the PSD (c)."
   ]
  },
  {
   "cell_type": "code",
   "execution_count": null,
   "metadata": {
    "ExecuteTime": {
     "end_time": "2020-12-14T04:56:09.252978Z",
     "start_time": "2020-12-14T04:56:08.879247Z"
    },
    "scrolled": true
   },
   "outputs": [],
   "source": [
    "def sine_wave(t, amp, freq, offset):\n",
    "    return amp * np.sin(2 * np.pi * freq * t) + b\n",
    "\n",
    "samp_freq = 200\n",
    "t_range = np.arange(0, 10, 1/samp_freq)\n",
    "a = 1\n",
    "b = 0\n",
    "f = 10\n",
    "ex = sine_wave(t_range, a, f, b)\n",
    "freqs, Pxx = signal.welch(ex, samp_freq)\n",
    "\n",
    "fig = plt.figure(figsize=(18, 3))\n",
    "ax = fig.add_subplot(131)\n",
    "ax.set_title(\"Example Sine Wave\", size=15)\n",
    "ax.plot(t_range, ex, c='mediumpurple')\n",
    "ax.set_xlim(0, 0.5)\n",
    "ax.set_xlabel('time [s]')\n",
    "ax.set_ylabel('amplitube [a.u.]')\n",
    "ax.grid()\n",
    "ax2 = fig.add_subplot(132)\n",
    "ax2.set_title(\"Example PSD of Sine Wave\", size=15)\n",
    "ax2.plot(freqs, 10*np.log10(Pxx), c='forestgreen')\n",
    "ax2.set_ylim(-80, 10)\n",
    "ax2.set_xlabel(\"frequency [Hz]\")\n",
    "ax2.set_ylabel(\"power spectrum [dB]\")\n",
    "ax2.grid()\n",
    "ax3 = fig.add_subplot(133)\n",
    "ax3.set_title(\"Example of Transformed Sine Wave\", size=15)\n",
    "ax3.plot(t_range, logistic(ex), c='mediumpurple')\n",
    "ax3.set_xlim(0, 0.5)\n",
    "ax3.set_xlabel('time [s]')\n",
    "ax3.set_ylabel('amplitube [a.u.]')\n",
    "ax3.grid()\n",
    "plt.show()"
   ]
  },
  {
   "cell_type": "markdown",
   "metadata": {},
   "source": [
    "NOTE: Here we can see that the logistic transformation of our signal results in a signal between 0 and 1. This will be the case for all combinations of offsets and amplitudes as the logistic function has this property of transforming the signal relative to its limits. Since we know that the offsets will shift the signal up or down and that amplitudes will stretch or squish them, there is no need to plot what they will look like. In additions, these signal will be transformed to be between 0 and 1, so we know the range of our resulting signal. Although, if the amplitude of the signal is much greater than 1, then the logistic function will transform the signal into a step like oscillating signal. Instead, it is more interesting to investigate how the amplitude and offset changes affect the PSD of the transformed signal."
   ]
  },
  {
   "cell_type": "code",
   "execution_count": null,
   "metadata": {
    "ExecuteTime": {
     "end_time": "2020-12-14T04:56:10.897812Z",
     "start_time": "2020-12-14T04:56:09.255421Z"
    }
   },
   "outputs": [],
   "source": [
    "a_range = [0.5, 1, 10]\n",
    "b_range = [-2, -1, 0, 1, 2]\n",
    "colors = ['indigo', 'mediumpurple', 'purple', 'mediumpurple', 'indigo']\n",
    "samp_freq = 200\n",
    "t_range = np.arange(0, 10, 1/samp_freq)\n",
    "f = 10\n",
    "\n",
    "\n",
    "fig = plt.figure(figsize=(18, 12))\n",
    "for i, a in enumerate(a_range):\n",
    "    for j, b in enumerate(b_range):\n",
    "        orig_signal = sine_wave(t_range, a, f, b)\n",
    "        transformed_signal = logistic(orig_signal)\n",
    "        freqs, Pxx = signal.welch(transformed_signal, samp_freq)\n",
    "        ax = fig.add_subplot(len(a_range), len(b_range), i*len(b_range) + j + 1)\n",
    "        ax.set_title(f'a = {a}, b = {b}')\n",
    "        ax.plot(freqs, 10*np.log10(Pxx), c=colors[j])\n",
    "        ax.set_ylim(-80, 0)\n",
    "        # Comment above and use below to visualize transformations\n",
    "#         ax.plot(t_range, transformed_signal)\n",
    "#         ax.set_xlim(0, 0.5)\n",
    "        ax.set_xlabel(\"frequency [Hz]\") if i == (len(a_range) - 1) else None\n",
    "        ax.set_ylabel(\"power spectrum [dB]\") if j == 0 else None\n",
    "        ax.grid()\n",
    "        "
   ]
  },
  {
   "cell_type": "markdown",
   "metadata": {},
   "source": [
    "There are a few differences between the PSD of the pure sine wave and the PSD of the non-linearly transformed sine wave. The first thing to note is that the PSD of the pure sine wave, or any linear transformation of one, has a single peak. The moment we introduce a non-linearity to the wave, we start to see harmonic frequencies appear in the PSD. As we increase the amplitude of our sine wave, the effects of the non-linear transformation become more dramatic, and we need more harmonics to describe the shape of the signal. If we introduce an offset, the effects of the logisitic tranformation increase as well and we start to see even more harmonics pop up in the PSD. It is worth noting that the symmetric offsets produce identical PSDs. This is a result of the same shape of the transformed signal at opposite offsets."
   ]
  },
  {
   "cell_type": "markdown",
   "metadata": {},
   "source": [
    "## Task 3: The effect of the non-linear transfer function: analytic & simulation (5 points)\n",
    "\n",
    "With a little trick, the clipping of an oscillating signal like a cosine wave y(t) can be seen as a linear operation: the multiplication with a rectangular oscillation x(t) of same frequency and apropriate phase. We ignore the DC part in this exercise. This models the \"on/off\" effect of the clipping:\n",
    "\n",
    "$z(t)=x(t)y(t)$\n",
    "\n",
    "For the periodic rectangular time series defined within a period $T_0=\\frac{1}{f_0}$ (note that this is a little bit different than in the lecture):\n",
    "\n",
    "$x (t) = \\left\\{\n",
    "\\begin{array}{ll}\n",
    "1  & \\, \\textrm{for} \\left|t\\right| \\leq T_1 \\\\\n",
    "0 & \\, \\textrm{else} \\\\\n",
    "\\end{array}\n",
    "\\right.$\n",
    "\n",
    "the corresponding fourier transform (here one-sided) is based on the delta function:\n",
    "\n",
    "$\\hat{x}(f)=\\frac{T_1}{T_0} \\delta(f)+\\sum_{n=1}^\\infty \\frac{\\sin^2(\\pi n\\frac{T_1}{T_0})}{\\pi n} \\delta(f-\\frac{n}{T_0})$\n",
    "\n",
    "A cosine wave of frequency $f_0$ has the fourier transform:\n",
    "\n",
    "$\\hat{y}(f)=2 \\pi \\delta (f-f_0)$\n",
    "\n",
    "In the theory of Fourier Transformation, a multiplicatiion in time domain corresponds to a convolution in the frequency:\n",
    "\n",
    "$z(t)=x(t)y(t) <=> z(f)=\\hat{x}(f) * \\hat{y}(f)$\n",
    "\n",
    "with the convolution being:\n",
    "\n",
    "$\\hat{x}(f)*\\hat{y}(f)=\\int_{-\\infty}^{\\infty}\\hat{x}(f-f')\\hat{y}(f')df'$\n",
    "\n",
    "**Task:**\n",
    "\n",
    "a) Calculate the Fourier Transform $\\hat{z}(f)$ of the signal $z(t)$ analyitcally by convolving $\\hat{x}(f)$ and $\\hat{y}(f)$ in the frequency domain.\n",
    "\n",
    "b) Implement the corresponding function for plotting and plot the amplitde spectrum for a clipped 10Hz. Set $T_1$ consequently to $\\frac{1}{4}T_0$, $\\frac{1}{2}T_0$ and $\\frac{3}{4}T_0$. Plot the delta function using the matplot functiion stem. What are the corresponding clipping values?\n",
    "\n",
    "c) Investigate the values at $nf_0$ and their dependency on the frequency.\n",
    "What is the effect of the clipping in the spectrum? What implications does the non-linear effect of clipping have on clipped sine waves (single frequency peaks) and white noise (spectrum is constant over frequency)?\n",
    "\n",
    "\n",
    "*Hint: For the convolution, think about the special properties of the dirac delta function $\\delta(x)$."
   ]
  },
  {
   "cell_type": "markdown",
   "metadata": {},
   "source": [
    "Solution to a):\n",
    "\n",
    "$\\hat{z}(f)=\\hat{x}(f)*\\hat{y}(f)=\\int_{-\\infty}^{\\infty}\\hat{x}(f-f')\\hat{y}(f')df'=\\int_{-\\infty}^{\\infty}\\hat{x}(f-f')2 \\pi \\delta (f'-f_0)df'=2\\pi\\int_{-\\infty}^{\\infty}\\hat{x}(f-f')\\delta (f'-f_0)df'=2\\pi\\hat{x}(f-f_0)=2\\pi\\left(\\frac{T_1}{T_0} \\delta(f-f_0)+\\sum_{n=1}^\\infty \\frac{\\sin^2(\\pi n\\frac{T_1}{T_0})}{\\pi n} \\delta(f-f_0-\\frac{n}{T_0})\\right)$"
   ]
  },
  {
   "cell_type": "code",
   "execution_count": null,
   "metadata": {
    "ExecuteTime": {
     "end_time": "2020-12-14T04:56:10.911763Z",
     "start_time": "2020-12-14T04:56:10.903882Z"
    },
    "scrolled": true
   },
   "outputs": [],
   "source": [
    "samp_freq = 200\n",
    "f_0 = 10\n",
    "t_0 = 1 / f_0\n",
    "t1_range = [1/4, 1/2, 3/4]\n",
    "t_range = np.arange(0, 10, 1/samp_freq)\n",
    "f_max = 100\n",
    "n = f_max // f_0 - 1\n",
    "\n",
    "\n",
    "def clipped_wave(f_max, f_0, t1, n):\n",
    "    t_0 = 1/f_0\n",
    "    t1 *= t_0\n",
    "    sigma = 0\n",
    "    for i in range(1, n):\n",
    "        sigma += np.sin(np.pi*i*t1/t_0)**2/(np.pi*i)*signal.unit_impulse(f_max, int(f_0 + i/t_0))\n",
    "    return 2*np.pi*((t1/t_0)*signal.unit_impulse(f_max, f_0) + sigma)"
   ]
  },
  {
   "cell_type": "code",
   "execution_count": null,
   "metadata": {
    "ExecuteTime": {
     "end_time": "2020-12-14T04:56:12.366594Z",
     "start_time": "2020-12-14T04:56:10.914745Z"
    }
   },
   "outputs": [],
   "source": [
    "fig = plt.figure(figsize=(15, 12))\n",
    "fig.subplots_adjust(hspace=0.5)\n",
    "for i, t1 in enumerate(t1_range):\n",
    "    sig = np.cos(2*np.pi*f_0*t_range)*(signal.square(2*np.pi*f_0*t_range, t1) + 1)/2\n",
    "    ax = fig.add_subplot(3,2, 1 + 2*i)\n",
    "    ax.set_title(r'$T_1$ = ' + f'{t1}' + r'$T_0$', size=15)\n",
    "    ax.plot(t_range, sig, c='mediumpurple')\n",
    "    ax.set_ylim(-1.1, 1.1)\n",
    "    ax.set_xlim(0, 0.5)\n",
    "    ax.set_xlabel('time [s]')\n",
    "    ax.set_ylabel('amplitude [a.u.]')\n",
    "    ax.grid()\n",
    "    ax = fig.add_subplot(3,2, 2 + 2*i)\n",
    "    ax.set_title(r'$T_1$ = ' + f'{t1}' + r'$T_0$', size=15)\n",
    "    ax.stem(clipped_wave(f_max, f_0, t1, n))\n",
    "    ax.set_xlabel('freqency [Hz]')\n",
    "    ax.set_ylabel('amplitude spectrum [a.u.]')\n",
    "    ax.grid()\n",
    "plt.show()"
   ]
  },
  {
   "cell_type": "markdown",
   "metadata": {},
   "source": [
    "The corresponding clipping values for $T_1$ equals $\\frac{1}{4}T_0$, $\\frac{1}{2}T_0$ and $\\frac{3}{4}T_0$ are $0$, $-1$, and $0$ respectively. As we can see from the amplitude spectrum, we have harmonic frequencies appearing. This implies that our signal is no longer a pure sinusoidal signal, thus the effects of clipping using a step function is a non-linear transformation. As we change the length of the on/off portions of our step function, i.e when the signal is clipped, we can observe changes in the harmonic frequencies that emerge. At $T_1 = \\frac{1}{4}T_0$ and $T_1 = \\frac{3}{4}T_0$, we can see a mixture of the even and odd harmonics that characterize our clipped signal; they seem to have the nearly identical harmonics with the only difference being the in the power of the fundamental frequency. Interestingly enough, when $T_1 = \\frac{1}{2}T_0$, apart from the fundamental frequency, only the even number harmonics appear.\n",
    "\n",
    "The implications of non-linear clipping of the sine signal are that the power of the single peaks decrease and new peaks start to emerge. The implications of non-linear clipping on white noise are that the power spectrum will change from something constant to a spectrum with emerging peaks and that the values at the clipping value are now more likely and so the power at those freqencies will increase."
   ]
  },
  {
   "cell_type": "code",
   "execution_count": null,
   "metadata": {},
   "outputs": [],
   "source": []
  }
 ],
 "metadata": {
  "anaconda-cloud": {},
  "hide_input": false,
  "kernelspec": {
   "display_name": "Python 3",
   "language": "python",
   "name": "python3"
  },
  "language_info": {
   "codemirror_mode": {
    "name": "ipython",
    "version": 3
   },
   "file_extension": ".py",
   "mimetype": "text/x-python",
   "name": "python",
   "nbconvert_exporter": "python",
   "pygments_lexer": "ipython3",
   "version": "3.7.1"
  },
  "toc": {
   "base_numbering": 1,
   "nav_menu": {},
   "number_sections": true,
   "sideBar": true,
   "skip_h1_title": false,
   "title_cell": "Table of Contents",
   "title_sidebar": "Contents",
   "toc_cell": false,
   "toc_position": {},
   "toc_section_display": true,
   "toc_window_display": false
  },
  "varInspector": {
   "cols": {
    "lenName": 16,
    "lenType": 16,
    "lenVar": 40
   },
   "kernels_config": {
    "python": {
     "delete_cmd_postfix": "",
     "delete_cmd_prefix": "del ",
     "library": "var_list.py",
     "varRefreshCmd": "print(var_dic_list())"
    },
    "r": {
     "delete_cmd_postfix": ") ",
     "delete_cmd_prefix": "rm(",
     "library": "var_list.r",
     "varRefreshCmd": "cat(var_dic_list()) "
    }
   },
   "types_to_exclude": [
    "module",
    "function",
    "builtin_function_or_method",
    "instance",
    "_Feature"
   ],
   "window_display": false
  }
 },
 "nbformat": 4,
 "nbformat_minor": 2
}
